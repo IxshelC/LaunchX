{
  "cells": [
    {
      "cell_type": "markdown",
      "metadata": {},
      "source": [
        "# Ejercicio: Uso de funciones en Python"
      ]
    },
    {
      "cell_type": "markdown",
      "metadata": {},
      "source": [
        "### Ejercicio 1: Trabajar con argumentos en funciones\n",
        "\n",
        "Los argumentos requeridos en las funciones se utilizan cuando las funciones necesitan que esos argumentos funcionen correctamente. En este ejercicio, construirás un informe de combustible que requiere información de varias ubicaciones de combustible en todo el cohete.\n",
        "\n"
      ]
    },
    {
      "cell_type": "markdown",
      "metadata": {},
      "source": [
        "> **TIP**\n",
        "> Dedica unos minutos para tratar de encontrar una solución. Luego desplázate hacia abajo hasta la parte inferior para ver si has logrado compilar el programa de acuerdo con las especificaciones\n",
        "\n",
        "Comienza por crear una función que necesite tres lecturas de combustible y devuelva un informe:"
      ]
    },
    {
      "cell_type": "code",
      "execution_count": 8,
      "metadata": {},
      "outputs": [],
      "source": [
        "# Función para leer 3 tanques de combustible y muestre el promedio\n",
        "\n",
        "\n",
        "def reporte(tanqueInterno, tanqueExterno, hidrogeno):\n",
        "    total = (tanqueInterno + tanqueExterno + hidrogeno) / 3\n",
        "    return f\"\"\"Reporte:\n",
        "    Total : {total}%\n",
        "    Tanque Interno: {tanqueInterno}%\n",
        "    Tanque Externo: {tanqueExterno}%\n",
        "    Hidrógeno: {hidrogeno}% \n",
        "    \"\"\"\n"
      ]
    },
    {
      "cell_type": "markdown",
      "metadata": {},
      "source": [
        "Ahora que hemos definido la función de informes, vamos a comprobarlo. Para esta misión, los tanques no están llenos:"
      ]
    },
    {
      "cell_type": "code",
      "execution_count": 9,
      "metadata": {},
      "outputs": [
        {
          "name": "stdout",
          "output_type": "stream",
          "text": [
            "Reporte:\n",
            "    Total : 60.0%\n",
            "    Tanque Interno: 50%\n",
            "    Tanque Externo: 30%\n",
            "    Hidrógeno: 100% \n",
            "    \n"
          ]
        }
      ],
      "source": [
        "\n",
        "# Llamamos a la función que genera el reporte print(funcion(tanque1, tanque2, tanque3))\n",
        "\n",
        "print(reporte(50,30,100))"
      ]
    },
    {
      "cell_type": "markdown",
      "metadata": {},
      "source": [
        "En lugar de simplemente crear el informe, la función también está calculando el promedio. Mejora la legibilidad extrayendo el cálculo promedio de la función en una nueva función para que el promedio se pueda hacer de forma independiente:"
      ]
    },
    {
      "cell_type": "code",
      "execution_count": 10,
      "metadata": {},
      "outputs": [
        {
          "data": {
            "text/plain": [
              "84.66666666666667"
            ]
          },
          "execution_count": 10,
          "metadata": {},
          "output_type": "execute_result"
        }
      ],
      "source": [
        "# Función promedio \n",
        "\n",
        "def promedio(values):\n",
        "    total = sum(values)\n",
        "    number_of_items = len(values)\n",
        "    return total / number_of_items\n",
        "\n",
        "# Test the averaging function with a list of integers:\n",
        "promedio([88, 85, 81]) \n"
      ]
    },
    {
      "cell_type": "markdown",
      "metadata": {},
      "source": [
        "Ahora actualiza la función de informes para llamando a la nueva función del promedio:\n"
      ]
    },
    {
      "cell_type": "code",
      "execution_count": 17,
      "metadata": {},
      "outputs": [
        {
          "name": "stdout",
          "output_type": "stream",
          "text": [
            " Report:\n",
            "    Total: 78.0%\n",
            "    Tanque Principal: 88%\n",
            "    Tanque Externo: 76%\n",
            "    Hidrogeno: 70% \n",
            "    \n"
          ]
        }
      ],
      "source": [
        "# Actualiza la función\n",
        "\n",
        "def reporte(tanqueInterno, tanqueExterno, hidrogeno):\n",
        "    return f\"\"\" Report:\n",
        "    Total: {average([tanqueInterno, tanqueExterno, hidrogeno])}%\n",
        "    Tanque Principal: {tanqueInterno}%\n",
        "    Tanque Externo: {tanqueExterno}%\n",
        "    Hidrogeno: {hidrogeno}% \n",
        "    \"\"\"\n",
        "\n",
        "print(reporte(88, 76, 70))"
      ]
    },
    {
      "cell_type": "markdown",
      "metadata": {},
      "source": [
        "> Recuerda: Lo importante es intentarlo, puedes auxiliarte de internet, libros, etc. El objetivo de una kata es la comprobación de la comprensión de la lección y su aplicación inmediata a la resolución de problemas. Go for it!"
      ]
    },
    {
      "cell_type": "markdown",
      "metadata": {},
      "source": [
        "## Ejercicio 2: Trabajo con argumentos de palabra clave"
      ]
    },
    {
      "cell_type": "markdown",
      "metadata": {},
      "source": [
        "### Ejercicio : Trabajar con argumentos de palabras clave en funciones\n",
        "En este ejercicio, construirás un informe de cohete que requiere varias piezas de información, como el tiempo hasta el destino, el combustible a la izquierda y el nombre del destino. Comienza por crear una función que creará un informe preciso de la misión:"
      ]
    },
    {
      "cell_type": "code",
      "execution_count": 19,
      "metadata": {},
      "outputs": [
        {
          "name": "stdout",
          "output_type": "stream",
          "text": [
            "\n",
            "    Misión a: Luna\n",
            "    Tiempo total del viaje: 65 minutos\n",
            "    Combustible total: 500000 galones\n",
            "    \n"
          ]
        }
      ],
      "source": [
        "# Función con un informe preciso de la misión. Considera hora de prelanzamiento, tiempo de vuelo, destino, tanque externo y tanque interno\n",
        "\n",
        "def mision(antesLanzamiento, tiempoVuelo, destino, tanqueExterno, tanqueInterno):\n",
        "    return f\"\"\"\n",
        "    Misión a: {destino}\n",
        "    Tiempo total del viaje: {antesLanzamiento + tiempoVuelo} minutos\n",
        "    Combustible total: {tanqueExterno + tanqueInterno} galones\n",
        "    \"\"\"\n",
        "\n",
        "print(mision(14, 51, \"Luna\", 200000, 300000))"
      ]
    },
    {
      "cell_type": "markdown",
      "metadata": {},
      "source": [
        "La función es problemática porque no se puede adaptar para minutos adicionales o tanques adicionales de combustible. Hazlo más flexible permitiendo cualquier número de pasos basados en el tiempo y cualquier número de tanques. En lugar de usar `*args` y `**kwargs`, aprovecha el hecho de que puedes usar cualquier nombre que desees. Asegurate que la función sea más legible mediante el uso de nombres de variables que están asociados con las entradas, como `*minutes` y `**fuel_reservoirs`:"
      ]
    },
    {
      "cell_type": "code",
      "execution_count": 21,
      "metadata": {},
      "outputs": [
        {
          "name": "stdout",
          "output_type": "stream",
          "text": [
            "\n",
            "    Mision a: Luna\n",
            "    Tiempo total del viaje: 76 minutos\n",
            "    Combustible total: 500000\n",
            "    \n"
          ]
        }
      ],
      "source": [
        "# Escribe tu nueva función de reporte considerando lo anterior\n",
        "\n",
        "def reporte(destino, *minutos, **depositoCombustible):\n",
        "    return f\"\"\"\n",
        "    Mision a: {destino}\n",
        "    Tiempo total del viaje: {sum(minutos)} minutos\n",
        "    Combustible total: {sum(depositoCombustible.values())}\n",
        "    \"\"\"\n",
        "\n",
        "print(reporte(\"Luna\", 10, 15, 51, interno=300000, externo=200000))"
      ]
    },
    {
      "cell_type": "markdown",
      "metadata": {},
      "source": [
        "Debido a que el combustible que queda en los tanques es específico de cada tanque, actualiza la función para usar el nombre de cada tanque en el informe:"
      ]
    },
    {
      "cell_type": "code",
      "execution_count": 25,
      "metadata": {},
      "outputs": [
        {
          "name": "stdout",
          "output_type": "stream",
          "text": [
            "\n",
            "    Misión a: Luna\n",
            "    Tiempo total del viaje: 74 minutos\n",
            "    Combustible total: 500000\n",
            "    Interno tanque --> 300000 galones restantes\n",
            "Externo tanque --> 200000 galones restantes\n",
            "\n"
          ]
        }
      ],
      "source": [
        "# Escribe tu nueva función\n",
        "\n",
        "def mision(destino, *minutos, **depositoCombustible):\n",
        "    reporteInicial = f\"\"\"\n",
        "    Misión a: {destino}\n",
        "    Tiempo total del viaje: {sum(minutos)} minutos\n",
        "    Combustible total: {sum(depositoCombustible.values())}\n",
        "    \"\"\"\n",
        "    for nombreTanque, galones in depositoCombustible.items():\n",
        "        reporteInicial += f\"{nombreTanque} tanque --> {galones} galones restantes\\n\"\n",
        "    return reporteInicial\n",
        "\n",
        "print(mision(\"Luna\", 8, 11, 55, Interno=300000, Externo=200000))"
      ]
    }
  ],
  "metadata": {
    "interpreter": {
      "hash": "205095b8b86ea82a021a8fc2ffba2b3bc9f8d0be25999901963b225939f75778"
    },
    "kernelspec": {
      "display_name": "Python 3.8.10 64-bit ('tmp': conda)",
      "name": "python3"
    },
    "language_info": {
      "codemirror_mode": {
        "name": "ipython",
        "version": 3
      },
      "file_extension": ".py",
      "mimetype": "text/x-python",
      "name": "python",
      "nbconvert_exporter": "python",
      "pygments_lexer": "ipython3",
      "version": "3.10.2"
    },
    "nteract": {
      "version": "nteract-front-end@1.0.0"
    },
    "orig_nbformat": 4
  },
  "nbformat": 4,
  "nbformat_minor": 2
}
